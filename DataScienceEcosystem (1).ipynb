{
 "cells": [
  {
   "cell_type": "markdown",
   "id": "068781dc-847a-432c-a4cc-8962d084c94e",
   "metadata": {},
   "source": [
    "# Data Science Tools and Ecosystem"
   ]
  },
  {
   "cell_type": "markdown",
   "id": "72e839f9-258c-4a82-9e92-add1f559bed6",
   "metadata": {},
   "source": [
    "In this notebook, Data Science Tools and Ecosystem are summarized.\n",
    "\n",
    "**Objectives:**\n",
    "Python, R Language, SQL, Pandas, Visualization etc.\n"
   ]
  },
  {
   "cell_type": "markdown",
   "id": "26fa3c6d-bb78-4b52-8306-819c74be9cfb",
   "metadata": {},
   "source": [
    "Some of the popular languages that Data Scientists use are:\n",
    "- 1 Python\n",
    "- 2 R\n",
    "- 3 SQL\n",
    "- 4 Julia\n",
    "- 5 Java\n",
    "- 6 C++"
   ]
  },
  {
   "cell_type": "markdown",
   "id": "f59c4b6d-ed1a-4e31-b466-3262efc6af91",
   "metadata": {},
   "source": [
    "Some of the commonly used libraries used by Data Scientists include:\n",
    "- 1.Pandas\n",
    "- 2.NumPy\n",
    "- 3.SciPy\n",
    "- 4.Matplotlib\n",
    "- 5.NLTK\n",
    "- 6.NLP"
   ]
  },
  {
   "cell_type": "markdown",
   "id": "01a4648e-1bdd-46b8-81ba-94ca3f728a5c",
   "metadata": {},
   "source": [
    "|Data Science Tools |\n",
    "\n",
    "--------------------\n",
    "\n",
    "|Weka |\n",
    "\n",
    " |Scrapy|\n",
    "\n",
    " |Pandas|\n",
    "\n",
    " "
   ]
  },
  {
   "cell_type": "markdown",
   "id": "5552f33d-f09c-4afc-84a0-b1eebd489834",
   "metadata": {},
   "source": [
    "### Below are a few examples of evaluating arithmetic expressions in Python\n",
    "\n"
   ]
  },
  {
   "cell_type": "code",
   "execution_count": 18,
   "id": "4db85017-f264-4799-b2fd-ea3beb5faf07",
   "metadata": {},
   "outputs": [
    {
     "data": {
      "text/plain": [
       "17"
      ]
     },
     "execution_count": 18,
     "metadata": {},
     "output_type": "execute_result"
    }
   ],
   "source": [
    "# This a simple arithmetic expression to mutiply then add integers #    \n",
    "(3*4)+5 "
   ]
  },
  {
   "cell_type": "code",
   "execution_count": 40,
   "id": "579821f8-9185-43b4-bb32-38f5dee84aa7",
   "metadata": {},
   "outputs": [],
   "source": [
    "# This will convert 200 minutes to hours by diving by 60 #\n",
    "\n",
    "Hours = 200/60"
   ]
  },
  {
   "cell_type": "code",
   "execution_count": 46,
   "id": "7d09240a-9791-466d-8a9c-7f7cf2257c1a",
   "metadata": {},
   "outputs": [
    {
     "name": "stdout",
     "output_type": "stream",
     "text": [
      "3.3333333333333335\n"
     ]
    }
   ],
   "source": [
    "print (Hours)"
   ]
  },
  {
   "cell_type": "markdown",
   "id": "a2ac88e2-4989-4603-899c-6f463b578c60",
   "metadata": {},
   "source": [
    "## Author\n",
    "Sunil Kushwaha"
   ]
  }
 ],
 "metadata": {
  "kernelspec": {
   "display_name": "Python [conda env:base] *",
   "language": "python",
   "name": "conda-base-py"
  },
  "language_info": {
   "codemirror_mode": {
    "name": "ipython",
    "version": 3
   },
   "file_extension": ".py",
   "mimetype": "text/x-python",
   "name": "python",
   "nbconvert_exporter": "python",
   "pygments_lexer": "ipython3",
   "version": "3.12.7"
  }
 },
 "nbformat": 4,
 "nbformat_minor": 5
}
